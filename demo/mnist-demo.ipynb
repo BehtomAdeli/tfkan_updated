{
 "cells": [
  {
   "cell_type": "code",
   "execution_count": 1,
   "metadata": {},
   "outputs": [],
   "source": [
    "import tensorflow as tf\n",
    "from keras.layers import Dense, Conv2D, GlobalAveragePooling2D\n",
    "from tfkan.layers import DenseKAN, Conv2DKAN\n",
    "\n",
    "import numpy as np\n",
    "from matplotlib import pyplot as plt"
   ]
  },
  {
   "cell_type": "code",
   "execution_count": 2,
   "metadata": {},
   "outputs": [],
   "source": [
    "# load fashion-mnist dataset\n",
    "(x_train, y_train), (x_test, y_test) = tf.keras.datasets.fashion_mnist.load_data()\n",
    "# normalize data\n",
    "x_train = np.expand_dims(x_train / 255.0, axis=-1).astype(np.float32)\n",
    "x_test = np.expand_dims(x_test / 255.0, axis=-1).astype(np.float32)"
   ]
  },
  {
   "cell_type": "code",
   "execution_count": 3,
   "metadata": {},
   "outputs": [
    {
     "name": "stdout",
     "output_type": "stream",
     "text": [
      "Model: \"sequential\"\n",
      "_________________________________________________________________\n",
      " Layer (type)                Output Shape              Param #   \n",
      "=================================================================\n",
      " conv2d (Conv2D)             (None, 12, 12, 32)        832       \n",
      "                                                                 \n",
      " conv2d_1 (Conv2D)           (None, 4, 4, 64)          51264     \n",
      "                                                                 \n",
      " global_average_pooling2d (G  (None, 64)               0         \n",
      " lobalAveragePooling2D)                                          \n",
      "                                                                 \n",
      " dense (Dense)               (None, 10)                650       \n",
      "                                                                 \n",
      "=================================================================\n",
      "Total params: 52,746\n",
      "Trainable params: 52,746\n",
      "Non-trainable params: 0\n",
      "_________________________________________________________________\n"
     ]
    }
   ],
   "source": [
    "# MLP\n",
    "mlp = tf.keras.models.Sequential([\n",
    "    Conv2D(filters=32, kernel_size=5, strides=2, padding='valid', activation='relu'),\n",
    "    Conv2D(filters=64, kernel_size=5, strides=2, padding='valid', activation='relu'),\n",
    "    GlobalAveragePooling2D(),\n",
    "    Dense(10, activation='softmax')\n",
    "])\n",
    "mlp.build(input_shape=(None, 28, 28, 1))\n",
    "mlp.summary()"
   ]
  },
  {
   "cell_type": "code",
   "execution_count": 4,
   "metadata": {},
   "outputs": [
    {
     "name": "stdout",
     "output_type": "stream",
     "text": [
      "Epoch 1/10\n",
      "469/469 [==============================] - 2s 2ms/step - loss: 0.9627 - accuracy: 0.6477 - val_loss: 0.7485 - val_accuracy: 0.6984\n",
      "Epoch 2/10\n",
      "469/469 [==============================] - 1s 2ms/step - loss: 0.6571 - accuracy: 0.7576 - val_loss: 0.6432 - val_accuracy: 0.7643\n",
      "Epoch 3/10\n",
      "469/469 [==============================] - 1s 2ms/step - loss: 0.5817 - accuracy: 0.7879 - val_loss: 0.5835 - val_accuracy: 0.7901\n",
      "Epoch 4/10\n",
      "469/469 [==============================] - 1s 2ms/step - loss: 0.5362 - accuracy: 0.8047 - val_loss: 0.5350 - val_accuracy: 0.8044\n",
      "Epoch 5/10\n",
      "469/469 [==============================] - 1s 2ms/step - loss: 0.5018 - accuracy: 0.8190 - val_loss: 0.5119 - val_accuracy: 0.8139\n",
      "Epoch 6/10\n",
      "469/469 [==============================] - 1s 2ms/step - loss: 0.4802 - accuracy: 0.8269 - val_loss: 0.4923 - val_accuracy: 0.8244\n",
      "Epoch 7/10\n",
      "469/469 [==============================] - 1s 2ms/step - loss: 0.4599 - accuracy: 0.8349 - val_loss: 0.4780 - val_accuracy: 0.8280\n",
      "Epoch 8/10\n",
      "469/469 [==============================] - 1s 2ms/step - loss: 0.4425 - accuracy: 0.8423 - val_loss: 0.4784 - val_accuracy: 0.8281\n",
      "Epoch 9/10\n",
      "469/469 [==============================] - 1s 2ms/step - loss: 0.4288 - accuracy: 0.8461 - val_loss: 0.4580 - val_accuracy: 0.8394\n",
      "Epoch 10/10\n",
      "469/469 [==============================] - 1s 2ms/step - loss: 0.4170 - accuracy: 0.8498 - val_loss: 0.4329 - val_accuracy: 0.8477\n",
      "CPU times: total: 3.27 s\n",
      "Wall time: 10.4 s\n"
     ]
    }
   ],
   "source": [
    "%%time\n",
    "mlp.compile(optimizer=tf.keras.optimizers.Adam(learning_rate=1e-3), loss='sparse_categorical_crossentropy', metrics=['accuracy'])\n",
    "mlp_history = mlp.fit(x_train, y_train, epochs=10, batch_size=128, validation_data=(x_test, y_test), verbose=1)"
   ]
  },
  {
   "cell_type": "code",
   "execution_count": 5,
   "metadata": {},
   "outputs": [
    {
     "name": "stdout",
     "output_type": "stream",
     "text": [
      "Model: \"sequential_1\"\n",
      "_________________________________________________________________\n",
      " Layer (type)                Output Shape              Param #   \n",
      "=================================================================\n",
      " conv2dkan (Conv2DKAN)       (None, 12, 12, 8)         1408      \n",
      "                                                                 \n",
      " layer_normalization (LayerN  (None, 12, 12, 8)        16        \n",
      " ormalization)                                                   \n",
      "                                                                 \n",
      " conv2dkan_1 (Conv2DKAN)     (None, 4, 4, 16)          22416     \n",
      "                                                                 \n",
      " global_average_pooling2d_1   (None, 16)               0         \n",
      " (GlobalAveragePooling2D)                                        \n",
      "                                                                 \n",
      " dense_kan (DenseKAN)        (None, 10)                1120      \n",
      "                                                                 \n",
      " softmax (Softmax)           (None, 10)                0         \n",
      "                                                                 \n",
      "=================================================================\n",
      "Total params: 24,960\n",
      "Trainable params: 24,960\n",
      "Non-trainable params: 0\n",
      "_________________________________________________________________\n"
     ]
    }
   ],
   "source": [
    "# KAN\n",
    "kan = tf.keras.models.Sequential([\n",
    "    Conv2DKAN(filters=8, kernel_size=5, strides=2, padding='valid', kan_kwargs={'grid_size': 3}),\n",
    "    tf.keras.layers.LayerNormalization(),\n",
    "    Conv2DKAN(filters=16, kernel_size=5, strides=2, padding='valid', kan_kwargs={'grid_size': 3}),\n",
    "    GlobalAveragePooling2D(),\n",
    "    DenseKAN(10, grid_size=3),\n",
    "    tf.keras.layers.Softmax()\n",
    "])\n",
    "kan.build(input_shape=(None, 28, 28, 1))\n",
    "kan.summary()"
   ]
  },
  {
   "cell_type": "code",
   "execution_count": 6,
   "metadata": {},
   "outputs": [
    {
     "name": "stdout",
     "output_type": "stream",
     "text": [
      "Epoch 1/10\n",
      "469/469 [==============================] - 8s 15ms/step - loss: 1.0354 - accuracy: 0.6436 - val_loss: 0.7420 - val_accuracy: 0.7412\n",
      "Epoch 2/10\n",
      "469/469 [==============================] - 7s 14ms/step - loss: 0.6522 - accuracy: 0.7708 - val_loss: 0.6215 - val_accuracy: 0.7796\n",
      "Epoch 3/10\n",
      "469/469 [==============================] - 7s 15ms/step - loss: 0.5685 - accuracy: 0.7950 - val_loss: 0.5662 - val_accuracy: 0.7954\n",
      "Epoch 4/10\n",
      "469/469 [==============================] - 7s 14ms/step - loss: 0.5238 - accuracy: 0.8107 - val_loss: 0.5311 - val_accuracy: 0.8103\n",
      "Epoch 5/10\n",
      "469/469 [==============================] - 7s 14ms/step - loss: 0.4951 - accuracy: 0.8212 - val_loss: 0.5219 - val_accuracy: 0.8091\n",
      "Epoch 6/10\n",
      "469/469 [==============================] - 7s 14ms/step - loss: 0.4759 - accuracy: 0.8275 - val_loss: 0.4964 - val_accuracy: 0.8222\n",
      "Epoch 7/10\n",
      "469/469 [==============================] - 7s 15ms/step - loss: 0.4612 - accuracy: 0.8327 - val_loss: 0.5043 - val_accuracy: 0.8151\n",
      "Epoch 8/10\n",
      "469/469 [==============================] - 7s 14ms/step - loss: 0.4492 - accuracy: 0.8388 - val_loss: 0.4710 - val_accuracy: 0.8299\n",
      "Epoch 9/10\n",
      "469/469 [==============================] - 7s 14ms/step - loss: 0.4371 - accuracy: 0.8416 - val_loss: 0.4693 - val_accuracy: 0.8302\n",
      "Epoch 10/10\n",
      "469/469 [==============================] - 7s 14ms/step - loss: 0.4285 - accuracy: 0.8446 - val_loss: 0.4720 - val_accuracy: 0.8283\n",
      "CPU times: total: 11.8 s\n",
      "Wall time: 1min 9s\n"
     ]
    }
   ],
   "source": [
    "%%time\n",
    "kan.compile(optimizer=tf.keras.optimizers.Adam(learning_rate=1e-3), loss='sparse_categorical_crossentropy', metrics=['accuracy'])\n",
    "kan_history = kan.fit(x_train, y_train, epochs=10, batch_size=128, validation_data=(x_test, y_test), verbose=1)"
   ]
  },
  {
   "cell_type": "code",
   "execution_count": 7,
   "metadata": {},
   "outputs": [
    {
     "data": {
      "text/plain": [
       "<matplotlib.legend.Legend at 0x29a074deee0>"
      ]
     },
     "execution_count": 7,
     "metadata": {},
     "output_type": "execute_result"
    },
    {
     "data": {
      "image/png": "[encoded data removed]",
      "text/plain": [
       "<Figure size 500x300 with 1 Axes>"
      ]
     },
     "metadata": {},
     "output_type": "display_data"
    }
   ],
   "source": [
    "# plot history\n",
    "fig = plt.figure(figsize=(5,3))\n",
    "plt.plot(mlp_history.history['accuracy'], label='mlp-train', ls=\"-\", color=\"red\")\n",
    "plt.plot(mlp_history.history['val_accuracy'], label='mlp-valid', ls=\"--\", color=\"red\")\n",
    "plt.plot(kan_history.history['accuracy'], label='kan-train', ls=\"-\", color=\"blue\")\n",
    "plt.plot(kan_history.history['val_accuracy'], label='kan-valid', ls=\"--\", color=\"blue\")\n",
    "plt.xlabel(\"Epochs\")\n",
    "plt.ylabel(\"Accuracy\")\n",
    "plt.legend()"
   ]
  },
  {
   "cell_type": "code",
   "execution_count": null,
   "metadata": {},
   "outputs": [],
   "source": []
  }
 ],
 "metadata": {
  "kernelspec": {
   "display_name": "tf2",
   "language": "python",
   "name": "python3"
  },
  "language_info": {
   "codemirror_mode": {
    "name": "ipython",
    "version": 3
   },
   "file_extension": ".py",
   "mimetype": "text/x-python",
   "name": "python",
   "nbconvert_exporter": "python",
   "pygments_lexer": "ipython3",
   "version": "3.9.13"
  }
 },
 "nbformat": 4,
 "nbformat_minor": 2
}
