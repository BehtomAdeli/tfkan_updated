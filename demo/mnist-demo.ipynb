{
 "cells": [
  {
   "cell_type": "code",
   "execution_count": 1,
   "metadata": {},
   "outputs": [],
   "source": [
    "import tensorflow as tf\n",
    "from keras.layers import Dense, Conv2D, GlobalAveragePooling2D\n",
    "from tfkan.layers import DenseKAN, Conv2DKAN\n",
    "\n",
    "import numpy as np\n",
    "from matplotlib import pyplot as plt"
   ]
  },
  {
   "cell_type": "code",
   "execution_count": 2,
   "metadata": {},
   "outputs": [],
   "source": [
    "# load fashion-mnist dataset\n",
    "(x_train, y_train), (x_test, y_test) = tf.keras.datasets.fashion_mnist.load_data()\n",
    "# normalize data\n",
    "x_train = np.expand_dims(x_train / 255.0, axis=-1).astype(np.float32)\n",
    "x_test = np.expand_dims(x_test / 255.0, axis=-1).astype(np.float32)"
   ]
  },
  {
   "cell_type": "code",
   "execution_count": 30,
   "metadata": {},
   "outputs": [
    {
     "name": "stdout",
     "output_type": "stream",
     "text": [
      "Model: \"sequential_15\"\n",
      "_________________________________________________________________\n"
     ]
    },
    {
     "name": "stdout",
     "output_type": "stream",
     "text": [
      " Layer (type)                Output Shape              Param #   \n",
      "=================================================================\n",
      " conv2d_29 (Conv2D)          (None, 12, 12, 32)        832       \n",
      "                                                                 \n",
      " conv2d_30 (Conv2D)          (None, 4, 4, 64)          51264     \n",
      "                                                                 \n",
      " global_average_pooling2d_1  (None, 64)                0         \n",
      " 5 (GlobalAveragePooling2D)                                      \n",
      "                                                                 \n",
      " dense_14 (Dense)            (None, 10)                650       \n",
      "                                                                 \n",
      "=================================================================\n",
      "Total params: 52746 (206.04 KB)\n",
      "Trainable params: 52746 (206.04 KB)\n",
      "Non-trainable params: 0 (0.00 Byte)\n",
      "_________________________________________________________________\n"
     ]
    }
   ],
   "source": [
    "# MLP\n",
    "mlp = tf.keras.models.Sequential([\n",
    "    Conv2D(filters=32, kernel_size=5, strides=2, padding='valid', activation='relu'),\n",
    "    Conv2D(filters=64, kernel_size=5, strides=2, padding='valid', activation='relu'),\n",
    "    GlobalAveragePooling2D(),\n",
    "    Dense(10, activation='softmax')\n",
    "])\n",
    "mlp.build(input_shape=(None, 28, 28, 1))\n",
    "mlp.summary()"
   ]
  },
  {
   "cell_type": "code",
   "execution_count": 31,
   "metadata": {},
   "outputs": [
    {
     "name": "stdout",
     "output_type": "stream",
     "text": [
      "Epoch 1/10\n",
      "469/469 [==============================] - 4s 7ms/step - loss: 0.9510 - accuracy: 0.6622 - val_loss: 0.7260 - val_accuracy: 0.7427\n",
      "Epoch 2/10\n",
      "469/469 [==============================] - 3s 7ms/step - loss: 0.6555 - accuracy: 0.7631 - val_loss: 0.6349 - val_accuracy: 0.7747\n",
      "Epoch 3/10\n",
      "469/469 [==============================] - 3s 6ms/step - loss: 0.5740 - accuracy: 0.7958 - val_loss: 0.5872 - val_accuracy: 0.7891\n",
      "Epoch 4/10\n",
      "469/469 [==============================] - 3s 7ms/step - loss: 0.5275 - accuracy: 0.8123 - val_loss: 0.5291 - val_accuracy: 0.8146\n",
      "Epoch 5/10\n",
      "469/469 [==============================] - 3s 7ms/step - loss: 0.4894 - accuracy: 0.8260 - val_loss: 0.4953 - val_accuracy: 0.8274\n",
      "Epoch 6/10\n",
      "469/469 [==============================] - 3s 6ms/step - loss: 0.4635 - accuracy: 0.8352 - val_loss: 0.5027 - val_accuracy: 0.8216\n",
      "Epoch 7/10\n",
      "469/469 [==============================] - 3s 6ms/step - loss: 0.4420 - accuracy: 0.8434 - val_loss: 0.4606 - val_accuracy: 0.8383\n",
      "Epoch 8/10\n",
      "469/469 [==============================] - 3s 6ms/step - loss: 0.4232 - accuracy: 0.8495 - val_loss: 0.4418 - val_accuracy: 0.8438\n",
      "Epoch 9/10\n",
      "469/469 [==============================] - 3s 6ms/step - loss: 0.4100 - accuracy: 0.8546 - val_loss: 0.4373 - val_accuracy: 0.8457\n",
      "Epoch 10/10\n",
      "469/469 [==============================] - 3s 6ms/step - loss: 0.3972 - accuracy: 0.8578 - val_loss: 0.4278 - val_accuracy: 0.8505\n",
      "CPU times: user 1min 27s, sys: 3.61 s, total: 1min 30s\n",
      "Wall time: 30.7 s\n"
     ]
    }
   ],
   "source": [
    "%%time\n",
    "mlp.compile(optimizer=tf.keras.optimizers.Adam(learning_rate=1e-3), loss='sparse_categorical_crossentropy', metrics=['accuracy'])\n",
    "mlp_history = mlp.fit(x_train, y_train, epochs=10, batch_size=128, validation_data=(x_test, y_test), verbose=1)"
   ]
  },
  {
   "cell_type": "code",
   "execution_count": 32,
   "metadata": {},
   "outputs": [
    {
     "name": "stdout",
     "output_type": "stream",
     "text": [
      "Model: \"sequential_16\"\n",
      "_________________________________________________________________\n",
      " Layer (type)                Output Shape              Param #   \n",
      "=================================================================\n",
      " conv2dkan_2 (Conv2DKAN)     (None, 12, 12, 8)         1408      \n",
      "                                                                 \n",
      " layer_normalization_1 (Lay  (None, 12, 12, 8)         16        \n",
      " erNormalization)                                                \n",
      "                                                                 \n",
      " conv2dkan_3 (Conv2DKAN)     (None, 4, 4, 16)          22416     \n",
      "                                                                 \n",
      " global_average_pooling2d_1  (None, 16)                0         \n",
      " 6 (GlobalAveragePooling2D)                                      \n",
      "                                                                 \n",
      " dense_kan_1 (DenseKAN)      (None, 10)                1120      \n",
      "                                                                 \n",
      " softmax_1 (Softmax)         (None, 10)                0         \n",
      "                                                                 \n",
      "=================================================================\n",
      "Total params: 24960 (97.50 KB)\n",
      "Trainable params: 24960 (97.50 KB)\n",
      "Non-trainable params: 0 (0.00 Byte)\n",
      "_________________________________________________________________\n"
     ]
    }
   ],
   "source": [
    "# KAN\n",
    "kan = tf.keras.models.Sequential([\n",
    "    Conv2DKAN(filters=8, kernel_size=5, strides=2, padding='valid', kan_kwargs={'grid_size': 3}),\n",
    "    tf.keras.layers.LayerNormalization(),\n",
    "    Conv2DKAN(filters=16, kernel_size=5, strides=2, padding='valid', kan_kwargs={'grid_size': 3}),\n",
    "    GlobalAveragePooling2D(),\n",
    "    DenseKAN(10, grid_size=3),\n",
    "    tf.keras.layers.Softmax()\n",
    "])\n",
    "kan.build(input_shape=(None, 28, 28, 1))\n",
    "kan.summary()"
   ]
  },
  {
   "cell_type": "code",
   "execution_count": 33,
   "metadata": {},
   "outputs": [
    {
     "name": "stdout",
     "output_type": "stream",
     "text": [
      "Epoch 1/10\n",
      "469/469 [==============================] - 62s 129ms/step - loss: 1.0748 - accuracy: 0.6288 - val_loss: 0.7353 - val_accuracy: 0.7373\n",
      "Epoch 2/10\n",
      "469/469 [==============================] - 60s 128ms/step - loss: 0.6274 - accuracy: 0.7728 - val_loss: 0.6004 - val_accuracy: 0.7804\n",
      "Epoch 3/10\n",
      "469/469 [==============================] - 58s 124ms/step - loss: 0.5507 - accuracy: 0.7985 - val_loss: 0.5515 - val_accuracy: 0.7996\n",
      "Epoch 4/10\n",
      "469/469 [==============================] - 61s 130ms/step - loss: 0.5108 - accuracy: 0.8153 - val_loss: 0.5282 - val_accuracy: 0.8090\n",
      "Epoch 5/10\n",
      "469/469 [==============================] - 61s 130ms/step - loss: 0.4845 - accuracy: 0.8248 - val_loss: 0.4977 - val_accuracy: 0.8213\n",
      "Epoch 6/10\n",
      "469/469 [==============================] - 60s 129ms/step - loss: 0.4661 - accuracy: 0.8309 - val_loss: 0.4966 - val_accuracy: 0.8244\n",
      "Epoch 7/10\n",
      "469/469 [==============================] - 60s 129ms/step - loss: 0.4489 - accuracy: 0.8369 - val_loss: 0.4825 - val_accuracy: 0.8254\n",
      "Epoch 8/10\n",
      "469/469 [==============================] - 60s 129ms/step - loss: 0.4382 - accuracy: 0.8418 - val_loss: 0.4791 - val_accuracy: 0.8240\n",
      "Epoch 9/10\n",
      "469/469 [==============================] - 60s 128ms/step - loss: 0.4255 - accuracy: 0.8450 - val_loss: 0.4526 - val_accuracy: 0.8365\n",
      "Epoch 10/10\n",
      "469/469 [==============================] - 60s 128ms/step - loss: 0.4171 - accuracy: 0.8478 - val_loss: 0.4395 - val_accuracy: 0.8437\n",
      "CPU times: user 30min 31s, sys: 2min 46s, total: 33min 17s\n",
      "Wall time: 10min 2s\n"
     ]
    }
   ],
   "source": [
    "%%time\n",
    "kan.compile(optimizer=tf.keras.optimizers.Adam(learning_rate=1e-3), loss='sparse_categorical_crossentropy', metrics=['accuracy'])\n",
    "kan_history = kan.fit(x_train, y_train, epochs=10, batch_size=128, validation_data=(x_test, y_test), verbose=1)"
   ]
  },
  {
   "cell_type": "code",
   "execution_count": 35,
   "metadata": {},
   "outputs": [
    {
     "data": {
      "text/plain": [
       "<matplotlib.legend.Legend at 0xfffefc9b03d0>"
      ]
     },
     "execution_count": 35,
     "metadata": {},
     "output_type": "execute_result"
    },
    {
     "data": {
      "image/png": "[encoded data removed]",
      "text/plain": [
       "<Figure size 500x300 with 1 Axes>"
      ]
     },
     "metadata": {},
     "output_type": "display_data"
    }
   ],
   "source": [
    "# plot history\n",
    "fig = plt.figure(figsize=(5,3))\n",
    "plt.plot(mlp_history.history['accuracy'], label='mlp-train')\n",
    "plt.plot(mlp_history.history['val_accuracy'], label='mlp-valid')\n",
    "plt.plot(kan_history.history['accuracy'], label='kan-train')\n",
    "plt.plot(kan_history.history['val_accuracy'], label='kan-valid')\n",
    "plt.xlabel(\"Epochs\")\n",
    "plt.ylabel(\"Accuracy\")\n",
    "plt.legend()"
   ]
  }
 ],
 "metadata": {
  "kernelspec": {
   "display_name": "tf2",
   "language": "python",
   "name": "python3"
  },
  "language_info": {
   "codemirror_mode": {
    "name": "ipython",
    "version": 3
   },
   "file_extension": ".py",
   "mimetype": "text/x-python",
   "name": "python",
   "nbconvert_exporter": "python",
   "pygments_lexer": "ipython3",
   "version": "3.9.18"
  }
 },
 "nbformat": 4,
 "nbformat_minor": 2
}
